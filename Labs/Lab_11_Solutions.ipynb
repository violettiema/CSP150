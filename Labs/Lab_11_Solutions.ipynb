{
  "nbformat": 4,
  "nbformat_minor": 0,
  "metadata": {
    "colab": {
      "provenance": []
    },
    "kernelspec": {
      "name": "python3",
      "display_name": "Python 3"
    },
    "language_info": {
      "name": "python"
    }
  },
  "cells": [
    {
      "cell_type": "markdown",
      "source": [
        "**Question 4 Morse Code Converter**\n",
        "\n",
        "Morse code is a code where each letter of the English alphabet, each digit, and various\n",
        "punctuation characters are represented by a series of dots and dashes. \n",
        "\n",
        "Write a program that asks the user to enter a string, then converts that string to Morse code.\n",
        "\n",
        "| Character | Code | Character | Code | Character | Code | Character | Code |\n",
        "| ----- | ----- | ----- | ----- | ----- | ----- | ----- | ----- |\n",
        "| space | *space* | 6  | – . . . .  | G  | – – .  | Q  | – – . – | \n",
        " | comma  | – – . . – –  | 7  | – – . . .  | H  | . . . .  | R  | . – . | \n",
        " | period  | . – . – . –  | 8  | – – – . .  | I  | . .  | S  | . . . | \n",
        " | question mark |  . . – – . .  | 9  | – – – – .  | J  | . – – –  | T  | – | \n",
        " | 0  | – – – – –  | A  | . –  | K  | – . –  | U  | . . – | \n",
        " | 1  | . – – – –  | B  | – . . .  | L  | . – . .  | V  | . . . – | \n",
        " | 2  | . . – – –  | C  | – . – .  | M  | – –  | W  | . – – | \n",
        " | 3  | . . . – –  | D  | – . .  | N  | – .  | X |  – . . – | \n",
        " | 4  | . . . . –  | E  | .  | O  | – – –  | Y  | – . – | \n",
        " | 5  | . . . . .  | F  | . . – .  | P  | . – – .  | Z  | – – . . | "
      ],
      "metadata": {
        "id": "LQ_3z_HaA9Dc"
      }
    },
    {
      "cell_type": "code",
      "execution_count": 17,
      "metadata": {
        "colab": {
          "base_uri": "https://localhost:8080/"
        },
        "id": "9MwfEUgj-YY5",
        "outputId": "2660dd5c-befb-48ac-83d3-5c2380be81c4"
      },
      "outputs": [
        {
          "output_type": "stream",
          "name": "stdout",
          "text": [
            "enter text:ba\n",
            "-... .- "
          ]
        }
      ],
      "source": [
        "list_1 = ['a','b','c','d','e','f','g','h','i','j','k','l','m','n','o','p','q','r','s','t','u','v','w','x','y','z','0','1','2','3','4','5','6','7','8','9','.',',','?']\n",
        "morse = ['.-','-...','-.-.','-..','.','..-.','--.','....','..','.---','-.-','.-..','--','-.','---','.--.','--.-','.-.','...','-','..-','...-','.--','-..-','-.--','--..','-----','.----','..---','...--','....-','.....','-....','--...','---..','----.','.-.-.-','--..--','..--..']\n",
        "inp = input(\"enter text:\")\n",
        "for i in inp:\n",
        "  if i in list_1:\n",
        "    print(morse[list_1.index(i)], end = ' ')\n",
        "  else:\n",
        "    print(\"Error\")\n"
      ]
    },
    {
      "cell_type": "code",
      "source": [],
      "metadata": {
        "id": "AeF1YCNU-0xr"
      },
      "execution_count": null,
      "outputs": []
    }
  ]
}