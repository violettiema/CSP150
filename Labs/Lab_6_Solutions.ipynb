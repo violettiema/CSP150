{
  "nbformat": 4,
  "nbformat_minor": 0,
  "metadata": {
    "colab": {
      "provenance": []
    },
    "kernelspec": {
      "name": "python3",
      "display_name": "Python 3"
    },
    "language_info": {
      "name": "python"
    }
  },
  "cells": [
    {
      "cell_type": "markdown",
      "source": [
        "**Question 3**\n",
        "\n",
        "Write a program that asks the user to enter a person’s age. The program should display\n",
        "a message indicating whether the person is an infant, a child, a teenager, or an adult.\n",
        "\n",
        "Following are the guidelines:\n",
        "* If the person is 1 year old or less, he or she is an infant.\n",
        "* If the person is older than 1 year, but younger than 13 years, he or she is a child.\n",
        "* If the person is at least 13 years old, but less than 20 years old, he or she is a teenager.\n",
        "* If the person is at least 20 years old, he or she is an adult."
      ],
      "metadata": {
        "id": "0HlsNYS76sFH"
      }
    },
    {
      "cell_type": "code",
      "execution_count": 6,
      "metadata": {
        "colab": {
          "base_uri": "https://localhost:8080/"
        },
        "id": "9tQ55F1n5g4w",
        "outputId": "546a74aa-71d3-4962-ddb2-ce77adbab4dc"
      },
      "outputs": [
        {
          "output_type": "stream",
          "name": "stdout",
          "text": [
            "Please enter your age: 100\n",
            "This is an adult\n"
          ]
        }
      ],
      "source": [
        "# age classifier\n",
        "# ask user to enter an age\n",
        "\n",
        "age = float(input(\"Please enter your age: \"))\n",
        "\n",
        "# determine the category of age\n",
        "if age <= 1 and age > 0:\n",
        "    print(\"This is an infant\")\n",
        "elif age > 1 and age < 13:\n",
        "    print(\"This is a child\")\n",
        "elif age >= 13 and age < 20:\n",
        "    print(\"This is a teenager\")\n",
        "elif age >= 20:\n",
        "    print(\"This is an adult\")\n",
        "# We cannot have negative age\n",
        "else:       \n",
        "    print(\"Not a valid age.\")"
      ]
    },
    {
      "cell_type": "code",
      "source": [
        "# roman numerals\n",
        "# ask user for a number within the range of 1 through 10\n",
        "\n",
        "number = int(input(\"Please enter a number within the range of 1 through 10: \"))\n",
        "\n",
        "# display the roman version\n",
        "if number == 1:\n",
        "    print(\"I\")\n",
        "elif number == 2:\n",
        "    print(\"II\")\n",
        "elif number == 3:\n",
        "    print(\"III\")\n",
        "elif number == 4:\n",
        "    print(\"IV\")\n",
        "elif number == 5:\n",
        "    print(\"V\")\n",
        "elif number == 6:\n",
        "    print(\"VI\")\n",
        "elif number == 7:\n",
        "    print(\"VII\")\n",
        "elif number == 8:\n",
        "    print(\"VIII\")\n",
        "elif number == 9:\n",
        "    print(\"IX\")\n",
        "elif number == 10:\n",
        "    print(\"X\")\n",
        "else:\n",
        "    print(\"ERROR: You entered a number outside the range of 1 through 10!\")\n"
      ],
      "metadata": {
        "colab": {
          "base_uri": "https://localhost:8080/"
        },
        "id": "dDTgQ4F15twv",
        "outputId": "ac0142e0-67a8-414b-aca9-8252f28cf463"
      },
      "execution_count": 7,
      "outputs": [
        {
          "output_type": "stream",
          "name": "stdout",
          "text": [
            "Please enter a number within the range of 1 through 10: 50\n",
            "ERROR: You entered a number outside the range of 1 through 10!\n"
          ]
        }
      ]
    },
    {
      "cell_type": "code",
      "source": [],
      "metadata": {
        "id": "vgXd73ar6HpD"
      },
      "execution_count": null,
      "outputs": []
    }
  ]
}
