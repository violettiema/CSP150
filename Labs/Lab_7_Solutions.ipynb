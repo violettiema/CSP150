{
  "nbformat": 4,
  "nbformat_minor": 0,
  "metadata": {
    "colab": {
      "provenance": []
    },
    "kernelspec": {
      "name": "python3",
      "display_name": "Python 3"
    },
    "language_info": {
      "name": "python"
    }
  },
  "cells": [
    {
      "cell_type": "markdown",
      "source": [
        "**Question 9**\n",
        "\n",
        "On a roulette wheel, the pockets are numbered from 0 to 36. The colors of the pockets are\n",
        "as follows:\n",
        "* Pocket 0 is green.\n",
        "* For pockets 1 through 10, the odd-numbered pockets are red and the even-numbered\n",
        "pockets are black.\n",
        "* For pockets 11 through 18, the odd-numbered pockets are black and the even-numbered\n",
        "pockets are red.\n",
        "* For pockets 19 through 28, the odd-numbered pockets are red and the even-numbered\n",
        "pockets are black.\n",
        "* For pockets 29 through 36, the odd-numbered pockets are black and the even-numbered\n",
        "pockets are red.\n",
        "\n",
        "Write a program that asks the user to enter a pocket number and displays whether the\n",
        "pocket is green, red, or black. The program should display an error message if the user\n",
        "enters a number that is outside the range of 0 through 36.\n"
      ],
      "metadata": {
        "id": "520lwlVw2Ugj"
      }
    },
    {
      "cell_type": "code",
      "execution_count": null,
      "metadata": {
        "id": "0U_-sm3T03NX"
      },
      "outputs": [],
      "source": [
        "# ask user to enter a pocket number\n",
        "p_num = int(input(\"Enter a pocket number between 0 and 36: \"))\n",
        "\n",
        "# create decision structure carefully.\n",
        "if p_num == 0:\n",
        "    print(\"Pocket\", p_num, \"is green.\")\n",
        "elif p_num >= 1 and p_num <= 10:\n",
        "    # check if the number is even\n",
        "    if p_num % 2 == 0:      \n",
        "        print(\"Pocket\", p_num, \"is black.\")\n",
        "    else:\n",
        "        print(\"Pocket\", p_num, \"is red.\")\n",
        "elif p_num >= 11 and p_num <= 18:\n",
        "    # check if the number is even\n",
        "    if p_num%2 == 0:      \n",
        "        print(\"Pocket\", p_num, \"is red.\")\n",
        "    else:\n",
        "        print(\"Pocket\", p_num, \"is black.\")\n",
        "elif p_num >= 19 and p_num <= 28:\n",
        "    if p_num % 2 == 0:      \n",
        "        print(\"Pocket\", p_num, \"is black.\")\n",
        "    else:\n",
        "        print(\"Pocket\", p_num, \"is red.\")\n",
        "elif p_num >= 29 and p_num <= 36:\n",
        "    if p_num % 2 == 0:      \n",
        "        print(\"Pocket\", p_num, \"is red.\")\n",
        "    else:\n",
        "        print(\"Pocket\", p_num, \"is black.\")\n",
        "else:\n",
        "    print(\"ERROR: You entered a number that is not within the range of 0-36.\")"
      ]
    }
  ]
}