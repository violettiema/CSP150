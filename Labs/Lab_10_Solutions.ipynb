{
  "nbformat": 4,
  "nbformat_minor": 0,
  "metadata": {
    "colab": {
      "provenance": []
    },
    "kernelspec": {
      "name": "python3",
      "display_name": "Python 3"
    },
    "language_info": {
      "name": "python"
    }
  },
  "cells": [
    {
      "cell_type": "code",
      "source": [
        "# Violet Tiema\n",
        "# March 29th 2023"
      ],
      "metadata": {
        "id": "u5RfMBsuRE2P"
      },
      "execution_count": null,
      "outputs": []
    },
    {
      "cell_type": "markdown",
      "source": [
        "**Question 11: Math Quiz**\n",
        "\n",
        "Write a program that gives simple math quizzes. The program should display two random\n",
        "numbers that are to be added, such as:\n",
        "\n",
        "```\n",
        "  247\n",
        "+ 129\n",
        "```\n",
        "\n",
        "The program should allow the student to enter the answer. If the answer is correct, a message of congratulations should be displayed. If the answer is incorrect, a message showing\n",
        "the correct answer should be displayed.\n"
      ],
      "metadata": {
        "id": "B8ZEFjf4kvxF"
      }
    },
    {
      "cell_type": "code",
      "source": [
        "# import necessary libraries\n",
        "import random\n",
        "\n",
        "# Get the random numbers\n",
        "num1 = random.randint(1,10000)\n",
        "num2 = random.randint(1,10000)\n",
        "\n",
        "def main():\n",
        "  # Display the numbers to be added\n",
        "  print(f\"What is the sum of {num1} and {num2}?\")\n",
        "  \n",
        "  # ask user to sum the numbers\n",
        "  guess = int(input(\"Please enter your answer: \"))\n",
        "\n",
        "  # check is user answer is correct\n",
        "  check_sum(guess)\n",
        "\n",
        "# calculate the sum of the numbers\n",
        "def sum(num1, num2):\n",
        "  sum = num1 + num2\n",
        "  return sum\n",
        "\n",
        "# check if the answer is right\n",
        "def check_sum(guess):\n",
        "  total = sum(num1,num2)\n",
        "  if guess != total:\n",
        "    print(f\"This is the wrong answer! The correct answer is {total}\")\n",
        "  else:\n",
        "    print(\"CONGRATULATIONS!\")\n",
        "\n",
        "# CALL MAIN FUNCTION\n",
        "main()"
      ],
      "metadata": {
        "colab": {
          "base_uri": "https://localhost:8080/"
        },
        "id": "O-MKrmaQljkO",
        "outputId": "4f1dda15-bbc3-4d82-f2d0-5fb1cfb1326d"
      },
      "execution_count": null,
      "outputs": [
        {
          "output_type": "stream",
          "name": "stdout",
          "text": [
            "What is the sum of 5083 and 3384?\n",
            "Please enter your answer: 25\n",
            "This is the wrong answer! The correct answer is 8467\n"
          ]
        }
      ]
    },
    {
      "cell_type": "code",
      "source": [],
      "metadata": {
        "id": "zPOxyGvjR0cG"
      },
      "execution_count": null,
      "outputs": []
    }
  ]
}