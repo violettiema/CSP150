{
  "nbformat": 4,
  "nbformat_minor": 0,
  "metadata": {
    "colab": {
      "provenance": []
    },
    "kernelspec": {
      "name": "python3",
      "display_name": "Python 3"
    },
    "language_info": {
      "name": "python"
    }
  },
  "cells": [
    {
      "cell_type": "markdown",
      "source": [
        "**Question 2 Lottery Number Generator**\n",
        "\n",
        "Design a program that generates a seven-digit lottery number. The program should generate seven random numbers, each in the range of 0 through 9, and assign each number to a list element. (Random numbers were discussed in Chapter 5.) Then write another loop thatdisplays the contents of the list."
      ],
      "metadata": {
        "id": "c8lKOroExKyA"
      }
    },
    {
      "cell_type": "code",
      "execution_count": 1,
      "metadata": {
        "id": "gTaowCb8pUtl",
        "colab": {
          "base_uri": "https://localhost:8080/"
        },
        "outputId": "726c55ba-45b8-4a1a-8d7a-9b1e411708ea"
      },
      "outputs": [
        {
          "output_type": "stream",
          "name": "stdout",
          "text": [
            "The lucky numbers are: \n",
            "\n",
            "2  8  9  6  1  7  4  "
          ]
        }
      ],
      "source": [
        "# lottery number generator\n",
        "\n",
        "import random \n",
        "\n",
        "def main():\n",
        "    numbers = random_number()\n",
        "    \n",
        "    print(\"The lucky numbers are: \")\n",
        "    print()\n",
        "    index = 0\n",
        "    while index < len(numbers):\n",
        "        print(numbers[index], end = \"  \")\n",
        "        index += 1\n",
        "        \n",
        "def random_number():\n",
        "    # create an empty list\n",
        "    numbers = []\n",
        "    \n",
        "    # we can just use append (it will iterate 7 times)\n",
        "    for i in range(7):\n",
        "        numbers.append(random.randrange(0,10))\n",
        "    return numbers\n",
        "\n",
        "# call the main function\n",
        "main()"
      ]
    },
    {
      "cell_type": "code",
      "source": [],
      "metadata": {
        "id": "KtvkDJx9x4pY"
      },
      "execution_count": null,
      "outputs": []
    }
  ]
}