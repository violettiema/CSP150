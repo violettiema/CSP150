{
  "nbformat": 4,
  "nbformat_minor": 0,
  "metadata": {
    "colab": {
      "provenance": []
    },
    "kernelspec": {
      "name": "python3",
      "display_name": "Python 3"
    },
    "language_info": {
      "name": "python"
    }
  },
  "cells": [
    {
      "cell_type": "markdown",
      "source": [
        "Question 1: **Personal Information**\n",
        "\n",
        "Write a program that displays the following information:\n",
        "* Your name\n",
        "* Your address, with city, state, and ZIP\n",
        "* Your telephone number\n",
        "* Your college major"
      ],
      "metadata": {
        "id": "1kNXvMgxBP3x"
      }
    },
    {
      "cell_type": "code",
      "execution_count": null,
      "metadata": {
        "colab": {
          "base_uri": "https://localhost:8080/"
        },
        "id": "TIY0aEPGBMN5",
        "outputId": "b14091f3-4825-495d-dd59-18f42e06467a"
      },
      "outputs": [
        {
          "output_type": "stream",
          "name": "stdout",
          "text": [
            "Please enter your name: Violet\n",
            "Please enter your address with city, state and ZIP code: Kennedy Dr\n",
            "Please enter your phone number: 817\n",
            "Please enter your college major: Math\n",
            "\n",
            "Your information is below: \n",
            "\n",
            "Your name is Violet\n",
            "Your address is Kennedy Dr\n",
            "Your telephone number is 817\n",
            "You majored in Math\n"
          ]
        }
      ],
      "source": [
        "# This program displays several pieces of information\n",
        "\n",
        "name = input(\"Please enter your name: \")\n",
        "address = input(\"Please enter your address with city, state and ZIP code: \")\n",
        "telephone = input(\"Please enter your phone number: \")\n",
        "major = input(\"Please enter your college major: \")\n",
        "\n",
        "print()\n",
        "\n",
        "# Show the information that is provided by user.\n",
        "print(\"Your information is below: \") \n",
        "print()\n",
        "print(\"Your name is\",name)\n",
        "print(\"Your address is\", address)\n",
        "print(\"Your telephone number is\",telephone)\n",
        "print(\"You majored in\",major)"
      ]
    },
    {
      "cell_type": "markdown",
      "source": [
        "Question 2: **Sales Prediction**\n",
        "\n",
        "A company has determined that its annual profit is typically 23 percent of total sales. Write a program that asks the user to enter the projected amount of total sales, then displays the profit that will be made from that amount.\n",
        "\n",
        "*Hint: Use the value 0.23 to represent 23 percent.*"
      ],
      "metadata": {
        "id": "9ahhbyPLEJex"
      }
    },
    {
      "cell_type": "code",
      "source": [
        "# Ask user projected amount of total sales\n",
        "total_sales = float(input(\"Enter the projected amount of total sales: \"))\n",
        "print()\n",
        "\n",
        "# Calculate the profit\n",
        "profit = total_sales * 0.23\n",
        "\n",
        "# display profit\n",
        "# Format to use comma to show thousands in dollars by using format function.\n",
        "# Use sep= argument to write after $ sign.\n",
        "print(\"The expected annual profit is $\", format(profit, ',.1f'), sep='')"
      ],
      "metadata": {
        "colab": {
          "base_uri": "https://localhost:8080/"
        },
        "id": "4W63aPP6E5Og",
        "outputId": "9df2bb13-3fb9-4b5c-f94c-22a3d8116f1c"
      },
      "execution_count": null,
      "outputs": [
        {
          "output_type": "stream",
          "name": "stdout",
          "text": [
            "Enter the projected amount of total sales: 200\n",
            "\n",
            "The expected annual profit is $46.0\n"
          ]
        }
      ]
    },
    {
      "cell_type": "markdown",
      "source": [
        "Question 3: **Land Calculation**\n",
        "\n",
        "One acre of land is equivalent to 43,560 square feet. Write a program that asks the user to enter the total square feet in a tract of land and calculates the number of acres in the tract.\n",
        "\n",
        "*Hint: Divide the amount entered by 43,560 to get the number of acres.*"
      ],
      "metadata": {
        "id": "l89ekkz8ERiZ"
      }
    },
    {
      "cell_type": "code",
      "source": [
        "total_square_feet = float(input(\"How many total square feet are in your tract of land? \"))\n",
        "acres = 43560\n",
        "total_acres = total_square_feet / acres\n",
        "print()\n",
        "\n",
        "print(f\"There are {total_acres:.3} acres in the tract\")"
      ],
      "metadata": {
        "id": "fBYcUyHuE5rf",
        "colab": {
          "base_uri": "https://localhost:8080/"
        },
        "outputId": "c61fc94d-ef05-45b4-d0e7-e180080bca7d"
      },
      "execution_count": null,
      "outputs": [
        {
          "output_type": "stream",
          "name": "stdout",
          "text": [
            "How many total square feet are in your tract of land? 1254\n",
            "\n",
            "There are 0.0288 acres in the tract\n"
          ]
        }
      ]
    }
  ]
}