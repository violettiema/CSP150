{
  "nbformat": 4,
  "nbformat_minor": 0,
  "metadata": {
    "colab": {
      "provenance": []
    },
    "kernelspec": {
      "name": "python3",
      "display_name": "Python 3"
    },
    "language_info": {
      "name": "python"
    }
  },
  "cells": [
    {
      "cell_type": "code",
      "source": [
        "# Violet Tiema\n",
        "# February 22nd 2023\n",
        "# When something is important enough, you do it even if the odds are not in your favor"
      ],
      "metadata": {
        "id": "7ImJPM3ceTBA"
      },
      "execution_count": null,
      "outputs": []
    },
    {
      "cell_type": "markdown",
      "source": [
        "**Multiple Nested Decision Structure**\n",
        "\n",
        "A ten point grade system\n",
        "\n",
        "* 90 and above  -  A\n",
        "* 80 - 89       -  B\n",
        "* 70 - 79       -  C\n",
        "* 60 - 69       -  D\n",
        "* Below 60      - Fail\n",
        "\n",
        "We want to write a program that will ask student to enter their grade and then it will display what grade they get.\n",
        "\n",
        "We will use the algorithm below\n",
        "\n",
        "1. Ask the student for their grade\n",
        "2. Determine their grade in the following manner\n",
        "\n",
        "If the score is greater or equal to 90 then the grade is A\n",
        "  * else if the score is greater or equal to 80 then grade is B\n",
        "    * else if the score is greater or equal to 70 then grade is C\n",
        "      * else if the score is greater or equal to 60 then grade is D\n",
        "        * else, the grade is F"
      ],
      "metadata": {
        "id": "IXLLoLeGe633"
      }
    },
    {
      "cell_type": "code",
      "source": [
        "# This program gets the numeric test score from the student\n",
        "# then displays the corresponding grade\n",
        "\n",
        "# Named constants of the grades\n",
        "A_score = 90\n",
        "B_score = 80\n",
        "C_score = 70\n",
        "D_score = 60\n",
        "\n",
        "# ask student for the score\n",
        "score = int(input(\"Enter your test grade: \"))\n",
        "\n",
        "# Determine the letter grade\n",
        "if score >= A_score:\n",
        "  print(\"You got an A!\")\n",
        "else:\n",
        "  if score >= B_score:\n",
        "    print(\"You got a B\")\n",
        "  else:\n",
        "    if score >= C_score:\n",
        "      print(\"You got a C\")\n",
        "    else:\n",
        "      if score >= D_score:\n",
        "        print(\"You got a D\")\n",
        "      else:\n",
        "        print(\"You got an F\")\n"
      ],
      "metadata": {
        "colab": {
          "base_uri": "https://localhost:8080/"
        },
        "id": "pQgyEptQhvZ0",
        "outputId": "130242ce-7915-43e1-ccf8-1b53721b9c09"
      },
      "execution_count": 2,
      "outputs": [
        {
          "output_type": "stream",
          "name": "stdout",
          "text": [
            "Enter your test grade: 50\n",
            "You got an F\n"
          ]
        }
      ]
    },
    {
      "cell_type": "code",
      "source": [
        "# Lets try above program using if-elif-else\n",
        "if score >= A_score:\n",
        "  print(\"You got an A!\")\n",
        "elif score >= B_score:\n",
        "  print(\"You got a B\")\n",
        "elif score >= C_score:\n",
        "  print(\"You got a C\")\n",
        "elif score >= D_score:\n",
        "  print(\"You got a D\")\n",
        "else:\n",
        "  print(\"You got an F\")\n"
      ],
      "metadata": {
        "id": "oIdZF4LPk_Db"
      },
      "execution_count": null,
      "outputs": []
    },
    {
      "cell_type": "markdown",
      "source": [
        "**Logical Operators**\n",
        "\n",
        "* and - both statements have to be true\n",
        "* or - either statement can be true\n",
        "* not - When you want opposite boolean type. This reverses the truth of the given statement"
      ],
      "metadata": {
        "id": "_4sgGP_cmsXw"
      }
    },
    {
      "cell_type": "code",
      "source": [
        "# Examples to demonstrate logical operators\n",
        "x = 5\n",
        "y = 6\n",
        "a = 20\n",
        "b = 13\n",
        "\n",
        "x < y and a > b"
      ],
      "metadata": {
        "colab": {
          "base_uri": "https://localhost:8080/"
        },
        "id": "uJ6zxfX7niV5",
        "outputId": "148ef853-9d40-4aea-b909-547af33033dd"
      },
      "execution_count": 3,
      "outputs": [
        {
          "output_type": "execute_result",
          "data": {
            "text/plain": [
              "True"
            ]
          },
          "metadata": {},
          "execution_count": 3
        }
      ]
    },
    {
      "cell_type": "code",
      "source": [
        "x > y and a < b"
      ],
      "metadata": {
        "colab": {
          "base_uri": "https://localhost:8080/"
        },
        "id": "naE-gh63oE4R",
        "outputId": "4b189755-fbd6-482b-d671-7f3b0529ecfb"
      },
      "execution_count": 4,
      "outputs": [
        {
          "output_type": "execute_result",
          "data": {
            "text/plain": [
              "False"
            ]
          },
          "metadata": {},
          "execution_count": 4
        }
      ]
    },
    {
      "cell_type": "code",
      "source": [
        "not(x > y and a < b)"
      ],
      "metadata": {
        "colab": {
          "base_uri": "https://localhost:8080/"
        },
        "id": "3lL24OwgoMy7",
        "outputId": "5124e4ab-a325-4e3f-bd5e-b3cf554c09c8"
      },
      "execution_count": 5,
      "outputs": [
        {
          "output_type": "execute_result",
          "data": {
            "text/plain": [
              "True"
            ]
          },
          "metadata": {},
          "execution_count": 5
        }
      ]
    },
    {
      "cell_type": "code",
      "source": [
        "not(x < y and a > b)"
      ],
      "metadata": {
        "colab": {
          "base_uri": "https://localhost:8080/"
        },
        "id": "IG-t6W2LoQxz",
        "outputId": "2c1a9b46-7d04-47d1-afb0-17ccbb889665"
      },
      "execution_count": 6,
      "outputs": [
        {
          "output_type": "execute_result",
          "data": {
            "text/plain": [
              "False"
            ]
          },
          "metadata": {},
          "execution_count": 6
        }
      ]
    },
    {
      "cell_type": "code",
      "source": [
        "z = 5\n",
        "x == z"
      ],
      "metadata": {
        "colab": {
          "base_uri": "https://localhost:8080/"
        },
        "id": "M-TbG62iodFo",
        "outputId": "a66088d0-042d-4e65-a62f-4dde4b3e3775"
      },
      "execution_count": 9,
      "outputs": [
        {
          "output_type": "execute_result",
          "data": {
            "text/plain": [
              "True"
            ]
          },
          "metadata": {},
          "execution_count": 9
        }
      ]
    },
    {
      "cell_type": "code",
      "source": [
        "a < b "
      ],
      "metadata": {
        "colab": {
          "base_uri": "https://localhost:8080/"
        },
        "id": "205xsYp4pKGo",
        "outputId": "f498a31d-1a35-4cdb-db80-afe4317d52a0"
      },
      "execution_count": 10,
      "outputs": [
        {
          "output_type": "execute_result",
          "data": {
            "text/plain": [
              "False"
            ]
          },
          "metadata": {},
          "execution_count": 10
        }
      ]
    },
    {
      "cell_type": "code",
      "source": [
        "x == z or a < b "
      ],
      "metadata": {
        "colab": {
          "base_uri": "https://localhost:8080/"
        },
        "id": "2CDZpdKvor51",
        "outputId": "0343cc28-09c8-4900-9153-7316a341885c"
      },
      "execution_count": 8,
      "outputs": [
        {
          "output_type": "execute_result",
          "data": {
            "text/plain": [
              "True"
            ]
          },
          "metadata": {},
          "execution_count": 8
        }
      ]
    },
    {
      "cell_type": "markdown",
      "source": [
        "**Truth Tables** \n",
        "\n",
        "* and - is always false except when *both are true*\n",
        "  * True and True  ⇒   True\n",
        "  * True and False ⇒   False\n",
        "  * False and True ⇒   False\n",
        "  * False and False ⇒  False\n",
        "\n",
        "* or - is always true except when *both are false*\n",
        "  * True and True  ⇒   True\n",
        "  * True and False ⇒   True\n",
        "  * False and True ⇒   True\n",
        "  * False and False ⇒  False\n",
        "\n",
        "* not - reverse boolean\n",
        "  * not true ⇒ False\n",
        "  * not False ⇒ True"
      ],
      "metadata": {
        "id": "pGOhM9Lto7eK"
      }
    },
    {
      "cell_type": "code",
      "source": [
        "# This program determines if a bank customer \n",
        "# qualifies for a loan\n",
        "\n",
        "min_salary = 10000.0    # minimum annual salary\n",
        "min_years = 2           # minimum #years at the job\n",
        "\n",
        "# Get the customers annual salary\n",
        "salary = float(input(\"Enter your annual salary: \"))\n",
        "\n",
        "# Determine whether the customer qualifies\n",
        "if salary >= min_salary:\n",
        "  # Get the number of years on current job\n",
        "  years = float(input(\"Enter the number of years at your current job: \"))\n",
        "  if years >= min_years:\n",
        "    print(\"You qualify for the loan!!!!!!\")\n",
        "  else:\n",
        "    print(\"You must have\",min_years,\"years to qualify\")\n",
        "else:\n",
        "  print(f\"You must have a minimum of ${min_salary:,.2f} to qualify\")"
      ],
      "metadata": {
        "colab": {
          "base_uri": "https://localhost:8080/"
        },
        "id": "qCMVNavVo3-1",
        "outputId": "cd56ec2d-dce9-4c03-8b05-87b4e5c4cf58"
      },
      "execution_count": 13,
      "outputs": [
        {
          "output_type": "stream",
          "name": "stdout",
          "text": [
            "Enter your annual salary: 300000\n",
            "Enter the number of years at your current job: 5\n",
            "You qualify for the loan!!!!!!\n"
          ]
        }
      ]
    },
    {
      "cell_type": "code",
      "source": [
        "# Determine whether the customer qualifies a differnet algorithm\n",
        "# This program determines if a bank customer \n",
        "# qualifies for a loan\n",
        "\n",
        "min_salary = 10000.0    # minimum annual salary\n",
        "min_years = 2           # minimum #years at the job\n",
        "\n",
        "# Get the customers annual salary\n",
        "salary = float(input(\"Enter your annual salary: \"))\n",
        "\n",
        "# Get the number of years on current job\n",
        "years = float(input(\"Enter the number of years at your current job: \"))\n",
        "\n",
        "if salary >= min_salary and years >= min_years:\n",
        "  print(\"You qualify for the loan!!\")\n",
        "else:\n",
        "  print(\"You have not qualified for the loan\")"
      ],
      "metadata": {
        "colab": {
          "base_uri": "https://localhost:8080/"
        },
        "id": "jcdXWVr0sY5b",
        "outputId": "b581b180-e5a2-4f86-f95e-6c2ccd3d5a56"
      },
      "execution_count": 18,
      "outputs": [
        {
          "output_type": "stream",
          "name": "stdout",
          "text": [
            "Enter your annual salary: 10000\n",
            "Enter the number of years at your current job: 1\n",
            "You have not qualified for the loan\n"
          ]
        }
      ]
    },
    {
      "cell_type": "code",
      "source": [
        "# Trial. Write the loan qualifier program with or.\n",
        "# Either someone has minimum salary or min years\n",
        "# and they would still qualify for the job\n",
        "\n",
        "# Determine whether the customer qualifies a differnet algorithm\n",
        "# This program determines if a bank customer \n",
        "# qualifies for a loan\n",
        "\n",
        "min_salary = 10000.0    # minimum annual salary\n",
        "min_years = 2           # minimum #years at the job\n",
        "\n",
        "# Get the customers annual salary\n",
        "salary = float(input(\"Enter your annual salary: \"))\n",
        "\n",
        "# Get the number of years on current job\n",
        "years = float(input(\"Enter the number of years at your current job: \"))\n",
        "\n",
        "if salary >= min_salary or years >= min_years:\n",
        "  print(\"You qualify for the loan!!\")\n",
        "else:\n",
        "  print(\"You have not qualified for the loan\")"
      ],
      "metadata": {
        "colab": {
          "base_uri": "https://localhost:8080/"
        },
        "id": "5Mc9GnkJt9Jj",
        "outputId": "7f4dc1be-654c-412e-c2b9-b0221663c5a5"
      },
      "execution_count": 20,
      "outputs": [
        {
          "output_type": "stream",
          "name": "stdout",
          "text": [
            "Enter your annual salary: 1000\n",
            "Enter the number of years at your current job: 1\n",
            "You have not qualified for the loan\n"
          ]
        }
      ]
    },
    {
      "cell_type": "markdown",
      "source": [
        "**Boolean Variables**\n",
        "\n",
        "* A boolean variable can reference either one of two values. True or False. \n",
        "* used to flag issues in a program\n",
        "* used to check if some conditions are met"
      ],
      "metadata": {
        "id": "7JDl956Bv69X"
      }
    },
    {
      "cell_type": "code",
      "source": [
        "# This program is to check if sales quota has been met\n",
        "# ask manager to put in the sales amount\n",
        "# display if sales quota was met\n",
        "\n",
        "# ask user for sales\n",
        "sales = float(input(\"What are your sales: \"))\n",
        "\n",
        "if sales >= 50000:\n",
        "  sales_quota = True\n",
        "else:\n",
        "  sales_quota = False\n",
        "if sales_quota:\n",
        "  print(\"You have DONE IT!!!!\")\n",
        "else:\n",
        "  print(\"You need to do a better job!!!\")"
      ],
      "metadata": {
        "colab": {
          "base_uri": "https://localhost:8080/"
        },
        "id": "DY6K8NJIvZo1",
        "outputId": "e9c6e161-ae89-4dbe-bbbd-72b516b0fea9"
      },
      "execution_count": 24,
      "outputs": [
        {
          "output_type": "stream",
          "name": "stdout",
          "text": [
            "What are your sales: 100\n",
            "You need to do a better job\n"
          ]
        }
      ]
    },
    {
      "cell_type": "markdown",
      "source": [
        "LAB7 problem 9 page 163\n",
        "\n",
        "Homework 2 pages 163 - 167 problems 10, 11, 13, 15, 17"
      ],
      "metadata": {
        "id": "NhdeXCpkzwXT"
      }
    },
    {
      "cell_type": "code",
      "source": [],
      "metadata": {
        "id": "fdSz-EbwxYR-"
      },
      "execution_count": null,
      "outputs": []
    }
  ]
}