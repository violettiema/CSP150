{
  "nbformat": 4,
  "nbformat_minor": 0,
  "metadata": {
    "colab": {
      "provenance": []
    },
    "kernelspec": {
      "name": "python3",
      "display_name": "Python 3"
    },
    "language_info": {
      "name": "python"
    }
  },
  "cells": [
    {
      "cell_type": "markdown",
      "source": [
        "Question 4: **Total Purchase**\n",
        "\n",
        "A customer in a store is purchasing five items. Write a program that asks for the price of each item, then displays the subtotal of the sale, the amount of sales tax, and the total.\n",
        "\n",
        "Assume the sales tax is 7 percent."
      ],
      "metadata": {
        "id": "Rwpim0trqM0h"
      }
    },
    {
      "cell_type": "code",
      "source": [
        "# Total Purchase\n",
        "\n",
        "# Ask user for the price of each item\n",
        "item1 = float(input(\"Enter the price of item 1: \"))\n",
        "item2 = float(input(\"Enter the price of item 2: \"))\n",
        "item3 = float(input(\"Enter the price of item 3: \"))\n",
        "item4 = float(input(\"Enter the price of item 4: \"))\n",
        "item5 = float(input(\"Enter the price of item 5: \"))\n",
        "\n",
        "# Display the subtotal\n",
        "print()\n",
        "subtotal = item1 + item2 +item3+item4+item5\n",
        "print(f\"Your subtotal is ${subtotal:.2f}\")\n",
        "\n",
        "# Calculate the tax. It is 7 percent.\n",
        "\n",
        "tax = 0.07\n",
        "tax_calculated = subtotal * tax\n",
        "print(f\"The sales tax is ${tax_calculated:.2f}\")\n",
        "\n",
        "# Calculate the total and display it\n",
        "\n",
        "total = subtotal + tax_calculated\n",
        "print(f\"Your total is ${total:.2f}\")\n"
      ],
      "metadata": {
        "colab": {
          "base_uri": "https://localhost:8080/"
        },
        "id": "4Is3KCMzrU19",
        "outputId": "8354d933-7aba-4473-f1b6-3eedbd953191"
      },
      "execution_count": null,
      "outputs": [
        {
          "output_type": "stream",
          "name": "stdout",
          "text": [
            "Enter the price of item 1: 10\n",
            "Enter the price of item 2: 10\n",
            "Enter the price of item 3: 10\n",
            "Enter the price of item 4: 10\n",
            "Enter the price of item 5: 10\n",
            "\n",
            "Your subtotal is $50.0\n",
            "The sales tax is $3.50\n",
            "Your total is $53.5\n"
          ]
        }
      ]
    },
    {
      "cell_type": "markdown",
      "source": [
        "Question 5: **Distance Traveled**\n",
        "\n",
        "Assuming there are no accidents or delays, the distance that a car travels down the inter-\n",
        "state can be calculated with the following formula:\n",
        "\n",
        "$$ Distance = Speed × Time $$\n",
        "\n",
        "A car is traveling at 70 miles per hour. Write a program that displays the following:\n",
        "* The distance the car will travel 10in 6 hours\n",
        "* The distance the car will travel in 10 hours\n",
        "* The distance the car will travel in 15 hours"
      ],
      "metadata": {
        "id": "iRqjXfQsq8cq"
      }
    },
    {
      "cell_type": "code",
      "source": [
        "# Distance Traveled\n",
        "\n",
        "speed = 70\n",
        "\n",
        "# Display the distance travelled\n",
        "print(\"The distance after 6 hours is\", speed*6, \"miles\")\n",
        "print(\"The distance after 10 hours is\", speed*10, \"miles\")\n",
        "print(\"The distance after 15 hours is\", speed*15, \"miles\")"
      ],
      "metadata": {
        "colab": {
          "base_uri": "https://localhost:8080/"
        },
        "id": "_tdjiGakrSLm",
        "outputId": "8b4259e2-a01d-48cb-92cb-3764e5d3d8bd"
      },
      "execution_count": null,
      "outputs": [
        {
          "output_type": "stream",
          "name": "stdout",
          "text": [
            "The distance after 6 hours is 420 miles\n",
            "The distance after 10 hours is 700 miles\n",
            "The distance after 15 hours is 1050 miles\n"
          ]
        }
      ]
    }
  ]
}