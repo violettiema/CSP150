{
  "nbformat": 4,
  "nbformat_minor": 0,
  "metadata": {
    "colab": {
      "provenance": [],
      "authorship_tag": "ABX9TyNnfyBCL8UhauNd19Ifq3U+",
      "include_colab_link": true
    },
    "kernelspec": {
      "name": "python3",
      "display_name": "Python 3"
    },
    "language_info": {
      "name": "python"
    }
  },
  "cells": [
    {
      "cell_type": "markdown",
      "metadata": {
        "id": "view-in-github",
        "colab_type": "text"
      },
      "source": [
        "<a href=\"https://colab.research.google.com/github/violettiema/CSP150/blob/main/Lecture_20.ipynb\" target=\"_parent\"><img src=\"https://colab.research.google.com/assets/colab-badge.svg\" alt=\"Open In Colab\"/></a>"
      ]
    },
    {
      "cell_type": "code",
      "execution_count": null,
      "metadata": {
        "id": "WaJ1EZNJ2rMe"
      },
      "outputs": [],
      "source": [
        "# Violet Tiema\n",
        "# May 3rd 2023\n",
        "# CSP 150 202\n",
        "# If it dont break, dont fix."
      ]
    },
    {
      "cell_type": "markdown",
      "source": [
        "**Sorting Algorithms**\n",
        "* We use sorting algorithms to make life easier\n",
        "* We use it for searching for an item in a list/array\n",
        "* We use it for selections - we can select items on a list based on the relationship the item has with others. \n",
        "* We can use to eradicate duplicates in a list\n",
        "* We can use it for statistics and creating distributions e.g frequency tables, calculating mean, median and mode. "
      ],
      "metadata": {
        "id": "E40Isqf33GVx"
      }
    },
    {
      "cell_type": "code",
      "source": [
        "array = [3,6,8,19,1 , -2]\n",
        "sorted_array = sorted(array)\n",
        "sorted_array"
      ],
      "metadata": {
        "colab": {
          "base_uri": "https://localhost:8080/"
        },
        "id": "1aUbzye_4QWi",
        "outputId": "4053f50e-5ba8-40a3-d159-e60900f22a7a"
      },
      "execution_count": null,
      "outputs": [
        {
          "output_type": "execute_result",
          "data": {
            "text/plain": [
              "[-2, 1, 3, 6, 8, 19]"
            ]
          },
          "metadata": {},
          "execution_count": 1
        }
      ]
    },
    {
      "cell_type": "code",
      "source": [
        "sorted_array.reverse()"
      ],
      "metadata": {
        "id": "auNkvp7y4XzK"
      },
      "execution_count": null,
      "outputs": []
    },
    {
      "cell_type": "code",
      "source": [
        "sorted_array"
      ],
      "metadata": {
        "colab": {
          "base_uri": "https://localhost:8080/"
        },
        "id": "zGHYMQGI4_tb",
        "outputId": "12db3f4b-dd92-49a7-c525-1ecfc92985b3"
      },
      "execution_count": null,
      "outputs": [
        {
          "output_type": "execute_result",
          "data": {
            "text/plain": [
              "[19, 8, 6, 3, 1, -2]"
            ]
          },
          "metadata": {},
          "execution_count": 4
        }
      ]
    },
    {
      "cell_type": "code",
      "source": [
        "names = [\"Spence\", \"Rohan\", \"Jose\",\"Manny\", \"Robert\"]\n",
        "names = sorted(names)"
      ],
      "metadata": {
        "id": "IivIxmsL5EH6"
      },
      "execution_count": null,
      "outputs": []
    },
    {
      "cell_type": "code",
      "source": [
        "names"
      ],
      "metadata": {
        "colab": {
          "base_uri": "https://localhost:8080/"
        },
        "id": "szSLKBCU5l9d",
        "outputId": "13d879ed-907d-43a1-a570-d60defe37d15"
      },
      "execution_count": null,
      "outputs": [
        {
          "output_type": "execute_result",
          "data": {
            "text/plain": [
              "['Jose', 'Manny', 'Robert', 'Rohan', 'Spence']"
            ]
          },
          "metadata": {},
          "execution_count": 7
        }
      ]
    },
    {
      "cell_type": "markdown",
      "source": [
        "**Bubble Sort Algorithm**\n",
        "* The most straightforward and easiest method.\n",
        "* With every new pass we take the largest element and *bubbles* it to its correct position."
      ],
      "metadata": {
        "id": "uvDbFuSw7rIq"
      }
    },
    {
      "cell_type": "code",
      "source": [
        "# This program is to demonstrate the\n",
        "# bubble sort algorithm\n",
        "\n",
        "import random\n",
        "\n",
        "def bubble_sort(array):\n",
        "  n = len(array)\n",
        "\n",
        "  for i in range(n):\n",
        "    # create a  flag that will tell us when\n",
        "    # the array is sorted\n",
        "    already_sorted = True\n",
        "\n",
        "    # start looking for each item in th elist one \n",
        "    # by one and comparing it to the one item\n",
        "    # adjacent to it. \n",
        "    # the portion of the array we are looking at\n",
        "    # reduces because we have already looked at items\n",
        "    # before it\n",
        "    for j in range(n - i - 1):\n",
        "      if array[j] > array[j + 1]:\n",
        "        # switch values\n",
        "        array[j], array[j + 1] = array[j + 1], array[j]\n",
        "\n",
        "        already_sorted = False\n",
        "\n",
        "    if already_sorted:\n",
        "      break\n",
        "  \n",
        "  return array\n"
      ],
      "metadata": {
        "id": "KBYPv9pV5qHU"
      },
      "execution_count": null,
      "outputs": []
    },
    {
      "cell_type": "code",
      "source": [
        "def main():\n",
        "  array = [random.randint(25, 50) for i in range(10)]\n",
        "  sorted_list = bubble_sort(array)\n",
        "  print('The sorted list is: ')\n",
        "  print(sorted_list)\n",
        "  # remove duplicates, introduce sets\n",
        "  set_list = list(set(sorted_list))\n",
        "  print('The unique sorted list is: ')\n",
        "  print(bubble_sort(set_list))\n",
        "\n",
        "# call main function\n",
        "if __name__ == '__main__':\n",
        "  main()"
      ],
      "metadata": {
        "colab": {
          "base_uri": "https://localhost:8080/"
        },
        "id": "dyrzBN999OUy",
        "outputId": "2c12601f-33f0-4bff-a529-782cd4f2d6ca"
      },
      "execution_count": null,
      "outputs": [
        {
          "output_type": "stream",
          "name": "stdout",
          "text": [
            "The sorted list is: \n",
            "[25, 25, 25, 26, 28, 42, 46, 46, 46, 47]\n",
            "The unique sorted list is: \n",
            "[25, 26, 28, 42, 46, 47]\n"
          ]
        }
      ]
    },
    {
      "cell_type": "code",
      "source": [
        "# remove duplicates, introduce sets\n",
        "set_list - set(sorted_list)"
      ],
      "metadata": {
        "id": "jMHMntU8-kvB"
      },
      "execution_count": null,
      "outputs": []
    },
    {
      "cell_type": "markdown",
      "source": [
        "**Insertion Sort**\n",
        "* This method finds the smallest element in the array and moves it to the correct position. \n",
        "* Then the remainder of the array is then inspected again and the next small element is then moved. \n"
      ],
      "metadata": {
        "id": "-PEff5Gx_wtu"
      }
    },
    {
      "cell_type": "code",
      "source": [
        "# This program demonstrates the insertion Sort\n",
        "# Algorithm\n",
        "\n",
        "def insertion_sort(array):\n",
        "  # loop from the seocnd element in the array\n",
        "  # until the last element\n",
        "\n",
        "  for i in range(1, len(array)):\n",
        "    key_item = array[i]\n",
        "\n",
        "    # loop through elements \n",
        "    j = i - 1\n",
        "\n",
        "    while j >= 0 and array[j] > key_item:\n",
        "      array[j + 1] = array[j]\n",
        "      j -= 1\n",
        "\n",
        "    array[j + 1] = key_item\n",
        "\n",
        "  return array"
      ],
      "metadata": {
        "id": "HcB0n-kDBB_s"
      },
      "execution_count": null,
      "outputs": []
    },
    {
      "cell_type": "code",
      "source": [
        "def main():\n",
        "  array = [random.randint(1, 50) for i in range(10)]\n",
        "  sorted_list = insertion_sort(array)\n",
        "  print('The sorted list is: ')\n",
        "  print(sorted_list)\n",
        "  # remove duplicates, introduce sets\n",
        "  set_list = list(set(sorted_list))\n",
        "  print('The unique sorted list is: ')\n",
        "  print(insertion_sort(set_list))\n",
        "\n",
        "# call main function\n",
        "if __name__ == '__main__':\n",
        "  main()"
      ],
      "metadata": {
        "colab": {
          "base_uri": "https://localhost:8080/"
        },
        "id": "UIZIQ9uPCJe9",
        "outputId": "e716ed48-d5b3-490c-e98b-8abffc496f73"
      },
      "execution_count": null,
      "outputs": [
        {
          "output_type": "stream",
          "name": "stdout",
          "text": [
            "The sorted list is: \n",
            "[9, 15, 19, 21, 21, 33, 37, 39, 40, 43]\n",
            "The unique sorted list is: \n",
            "[9, 15, 19, 21, 33, 37, 39, 40, 43]\n"
          ]
        }
      ]
    },
    {
      "cell_type": "markdown",
      "source": [
        "**Merge Sort**\n",
        "* uses recursion to sort"
      ],
      "metadata": {
        "id": "ZisRaWGBDN7x"
      }
    },
    {
      "cell_type": "code",
      "source": [],
      "metadata": {
        "id": "S5kXO4ClCbxG"
      },
      "execution_count": null,
      "outputs": []
    }
  ]
}